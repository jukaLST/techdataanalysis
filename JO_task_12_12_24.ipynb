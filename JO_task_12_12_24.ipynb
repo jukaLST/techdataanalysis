{
  "nbformat": 4,
  "nbformat_minor": 0,
  "metadata": {
    "colab": {
      "provenance": [],
      "authorship_tag": "ABX9TyPVl9LPDs89qY4rl1FDdGGG",
      "include_colab_link": true
    },
    "kernelspec": {
      "name": "python3",
      "display_name": "Python 3"
    },
    "language_info": {
      "name": "python"
    }
  },
  "cells": [
    {
      "cell_type": "markdown",
      "metadata": {
        "id": "view-in-github",
        "colab_type": "text"
      },
      "source": [
        "<a href=\"https://colab.research.google.com/github/jukaLST/techdataanalysis/blob/main/JO_task_12_12_24.ipynb\" target=\"_parent\"><img src=\"https://colab.research.google.com/assets/colab-badge.svg\" alt=\"Open In Colab\"/></a>"
      ]
    },
    {
      "cell_type": "code",
      "execution_count": 1,
      "metadata": {
        "id": "l78gTOmf6fPk",
        "colab": {
          "base_uri": "https://localhost:8080/"
        },
        "outputId": "3a2ac941-cee0-4710-f171-ad620dd43d86"
      },
      "outputs": [
        {
          "output_type": "stream",
          "name": "stdout",
          "text": [
            "Cubes: [1, 8, 27, 64]\n"
          ]
        }
      ],
      "source": [
        "#Write a lambda function to calculate the cube of a number over a [1,2,3,4]\n",
        "numbers = [1, 2, 3, 4]\n",
        "cubes = list(map(lambda x: x**3, numbers))\n",
        "print(\"Cubes:\", cubes)\n",
        "\n"
      ]
    },
    {
      "cell_type": "code",
      "source": [
        "# Create a Pandas Series and use a lambda function with .apply()\n",
        "import pandas as pd\n",
        "\n",
        "series = pd.Series(range(1, 11))\n",
        "new_series = series.apply(lambda x: x**2 if x > 5 else x)\n",
        "print(\"Original Series:\")\n",
        "print(series)\n",
        "print(\"Modified Series:\")\n",
        "print(new_series)\n",
        "\n"
      ],
      "metadata": {
        "colab": {
          "base_uri": "https://localhost:8080/"
        },
        "id": "a8C5CE9zDgkZ",
        "outputId": "07eb6811-286f-4666-ada9-f122366a7d2b"
      },
      "execution_count": 2,
      "outputs": [
        {
          "output_type": "stream",
          "name": "stdout",
          "text": [
            "Original Series:\n",
            "0     1\n",
            "1     2\n",
            "2     3\n",
            "3     4\n",
            "4     5\n",
            "5     6\n",
            "6     7\n",
            "7     8\n",
            "8     9\n",
            "9    10\n",
            "dtype: int64\n",
            "Modified Series:\n",
            "0      1\n",
            "1      2\n",
            "2      3\n",
            "3      4\n",
            "4      5\n",
            "5     36\n",
            "6     49\n",
            "7     64\n",
            "8     81\n",
            "9    100\n",
            "dtype: int64\n"
          ]
        }
      ]
    },
    {
      "cell_type": "code",
      "source": [
        "# Create a DataFrame and use a lambda function with .apply()\n",
        "data = {\n",
        "    'Name': ['Alice', 'Bob', 'Charlie', 'David'],\n",
        "    'Age': [17, 22, 15, 18],\n",
        "    'City': ['Warsaw', 'Berlin', 'Paris', 'Madrid']\n",
        "}\n",
        "dataframe = pd.DataFrame(data)\n",
        "dataframe[\"Is_Minor\"] = dataframe[\"Age\"].apply(lambda x: \"Yes\" if x < 18 else \"No\")\n",
        "print(\"DataFrame with Is_Minor column:\")\n",
        "print(dataframe)"
      ],
      "metadata": {
        "colab": {
          "base_uri": "https://localhost:8080/"
        },
        "id": "s03Ui68aDpSC",
        "outputId": "42b12881-457b-400f-9701-7948cdc72bbe"
      },
      "execution_count": 3,
      "outputs": [
        {
          "output_type": "stream",
          "name": "stdout",
          "text": [
            "DataFrame with Is_Minor column:\n",
            "      Name  Age    City Is_Minor\n",
            "0    Alice   17  Warsaw      Yes\n",
            "1      Bob   22  Berlin       No\n",
            "2  Charlie   15   Paris      Yes\n",
            "3    David   18  Madrid       No\n"
          ]
        }
      ]
    },
    {
      "cell_type": "code",
      "source": [],
      "metadata": {
        "id": "96zRplcfDvXb"
      },
      "execution_count": null,
      "outputs": []
    }
  ]
}