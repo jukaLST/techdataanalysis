{
  "nbformat": 4,
  "nbformat_minor": 0,
  "metadata": {
    "colab": {
      "provenance": [],
      "authorship_tag": "ABX9TyM/+h2XTuhg1QGmrbNEpeaT",
      "include_colab_link": true
    },
    "kernelspec": {
      "name": "python3",
      "display_name": "Python 3"
    },
    "language_info": {
      "name": "python"
    }
  },
  "cells": [
    {
      "cell_type": "markdown",
      "metadata": {
        "id": "view-in-github",
        "colab_type": "text"
      },
      "source": [
        "<a href=\"https://colab.research.google.com/github/jukaLST/techdataanalysis/blob/main/jo_wolne_lektury.ipynb\" target=\"_parent\"><img src=\"https://colab.research.google.com/assets/colab-badge.svg\" alt=\"Open In Colab\"/></a>"
      ]
    },
    {
      "cell_type": "code",
      "execution_count": null,
      "metadata": {
        "id": "x0XP5OAD2t0Q"
      },
      "outputs": [],
      "source": [
        "# Wolne Lektury API: https://wolnelektury.pl/api/\n",
        "\n",
        "\n",
        "# Write code that:\n",
        "\n",
        "# - retrieves data for a single author and a single book using slug\n",
        "# - saves the data to a json file\n",
        "# - writes data to csv file\n",
        "\n",
        "# Write the code using your own functions\n",
        "\n",
        "import csv\n",
        "import json\n",
        "\n",
        "import requests"
      ]
    },
    {
      "cell_type": "code",
      "source": [
        "def get_author_data(slug):\n",
        "    url = f\"https://wolnelektury.pl/api/authors/{slug}/\"\n",
        "    response = requests.get(url)\n",
        "    return response.json()\n",
        "\n",
        "\n",
        "def get_book_data(slug):\n",
        "    url = f\"https://wolnelektury.pl/api/books/{slug}/\"\n",
        "    response = requests.get(url)\n",
        "    return response.json()\n",
        "\n",
        "\n",
        "def save_to_json(data, filename):\n",
        "    with open(filename, \"w\") as file:\n",
        "        json.dump(data, file, indent=4)\n",
        "\n",
        "\n",
        "def save_to_csv(data, filename):\n",
        "    with open(filename, \"w\") as file:\n",
        "        writer = csv.writer(file)\n",
        "        writer.writerow([\"key\", \"value\"])\n",
        "        for key, value in data.items():\n",
        "            writer.writerow([key, value])"
      ],
      "metadata": {
        "id": "aVqJ4CmG2u5s"
      },
      "execution_count": null,
      "outputs": []
    },
    {
      "cell_type": "code",
      "source": [
        "author_data = get_author_data(\"adam-mickiewicz\")\n",
        "book_data = get_book_data(\"pan-tadeusz\")\n",
        "save_to_json(author_data, \"author.json\")\n",
        "save_to_json(book_data, \"book.json\")\n",
        "save_to_csv(author_data, \"author.csv\")\n",
        "save_to_csv(book_data, \"book.csv\")\n",
        "\n",
        "print(\"Data saved to json and csv files\")"
      ],
      "metadata": {
        "colab": {
          "base_uri": "https://localhost:8080/"
        },
        "id": "Lvq8Nw583O0q",
        "outputId": "f99a80a1-b4f9-415d-893f-27a587ab8a2d"
      },
      "execution_count": null,
      "outputs": [
        {
          "output_type": "stream",
          "name": "stdout",
          "text": [
            "Data saved to json and csv files\n"
          ]
        }
      ]
    }
  ]
}