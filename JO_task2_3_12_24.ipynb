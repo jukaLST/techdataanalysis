{
  "nbformat": 4,
  "nbformat_minor": 0,
  "metadata": {
    "colab": {
      "provenance": [],
      "authorship_tag": "ABX9TyN6W7cWzNN20W+sCeXzgyco",
      "include_colab_link": true
    },
    "kernelspec": {
      "name": "python3",
      "display_name": "Python 3"
    },
    "language_info": {
      "name": "python"
    }
  },
  "cells": [
    {
      "cell_type": "markdown",
      "metadata": {
        "id": "view-in-github",
        "colab_type": "text"
      },
      "source": [
        "<a href=\"https://colab.research.google.com/github/jukaLST/techdataanalysis/blob/main/JO_task2_3_12_24.ipynb\" target=\"_parent\"><img src=\"https://colab.research.google.com/assets/colab-badge.svg\" alt=\"Open In Colab\"/></a>"
      ]
    },
    {
      "cell_type": "code",
      "execution_count": null,
      "metadata": {
        "id": "depiNGit-Pwb"
      },
      "outputs": [],
      "source": [
        "import json\n",
        "\n",
        "\n",
        "with open('students.json') as file:\n",
        "  data=json.load(file)\n",
        "  students = data['students']\n",
        "  #for student in students:\n",
        "    #print(student['name'])\n",
        "\n",
        "  print(students[1]['name'])\n"
      ]
    },
    {
      "cell_type": "code",
      "source": [
        "BASEURL = \"http://api.geonames.org/findNearbyPlaceNameJSON\"\n",
        "USERNAME = \"juka16\"\n",
        "\n",
        "import requests\n",
        "\n",
        "\n",
        "parameters = {\"lng\": \"-0.12574\",\"lat\": \"51.50853\", \"username\": USERNAME }\n",
        "\n",
        "response = requests.get(BASEURL, parameters)\n",
        "json_data=response.json()['geonames']\n",
        "print(json.dumps(json_data,indent = 2))"
      ],
      "metadata": {
        "colab": {
          "base_uri": "https://localhost:8080/"
        },
        "id": "w41fV76z_3mL",
        "outputId": "24af3231-3745-4f74-9428-1a4b821feaa3"
      },
      "execution_count": 4,
      "outputs": [
        {
          "output_type": "stream",
          "name": "stdout",
          "text": [
            "[\n",
            "  {\n",
            "    \"adminCode1\": \"ENG\",\n",
            "    \"lng\": \"-0.12574\",\n",
            "    \"distance\": \"0.00019\",\n",
            "    \"geonameId\": 2643743,\n",
            "    \"toponymName\": \"London\",\n",
            "    \"countryId\": \"2635167\",\n",
            "    \"fcl\": \"P\",\n",
            "    \"population\": 8961989,\n",
            "    \"countryCode\": \"GB\",\n",
            "    \"name\": \"London\",\n",
            "    \"fclName\": \"city, village,...\",\n",
            "    \"adminCodes1\": {\n",
            "      \"ISO3166_2\": \"ENG\"\n",
            "    },\n",
            "    \"countryName\": \"United Kingdom\",\n",
            "    \"fcodeName\": \"capital of a political entity\",\n",
            "    \"adminName1\": \"England\",\n",
            "    \"lat\": \"51.50853\",\n",
            "    \"fcode\": \"PPLC\"\n",
            "  }\n",
            "]\n"
          ]
        }
      ]
    },
    {
      "cell_type": "code",
      "source": [],
      "metadata": {
        "id": "7beKQ9ig_3S-"
      },
      "execution_count": null,
      "outputs": []
    }
  ]
}