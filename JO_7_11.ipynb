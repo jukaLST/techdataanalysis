{
  "nbformat": 4,
  "nbformat_minor": 0,
  "metadata": {
    "colab": {
      "provenance": [],
      "authorship_tag": "ABX9TyMWd03j4on9G2xos4F48Hfu",
      "include_colab_link": true
    },
    "kernelspec": {
      "name": "python3",
      "display_name": "Python 3"
    },
    "language_info": {
      "name": "python"
    }
  },
  "cells": [
    {
      "cell_type": "markdown",
      "metadata": {
        "id": "view-in-github",
        "colab_type": "text"
      },
      "source": [
        "<a href=\"https://colab.research.google.com/github/jukaLST/techdataanalysis/blob/main/JO_7_11.ipynb\" target=\"_parent\"><img src=\"https://colab.research.google.com/assets/colab-badge.svg\" alt=\"Open In Colab\"/></a>"
      ]
    },
    {
      "cell_type": "code",
      "execution_count": null,
      "metadata": {
        "id": "vt60Cfx7PiSu"
      },
      "outputs": [],
      "source": [
        "#MEDIUM\n",
        "\n",
        "#1 Check if the user entered an even number.\n",
        "\n",
        "\n",
        "\n",
        "#2 Check if the user has entered an odd number\n",
        "\n",
        "#3. check if the sum of the two numbers entered by the user is an even number\n",
        "#\n",
        "\n",
        "#4. Check if the password entered by the user meets the following conditions\n",
        "  # - at least one lowercase and one uppercase letter\n",
        "  # - at least one digit\n",
        "  # - at least one special character\n",
        "  # - at least 3 characters in length\n",
        "  # - a maximum of 18 characters in length"
      ]
    },
    {
      "cell_type": "code",
      "source": [
        "n1=int(input(\"liczba nr 1 \"))\n",
        "print(\"Even \",n1%2==0)\n",
        "print(\"Odd \", str(n1%2!=0))\n",
        "n2=int(input(\"liczba nr 2 \"))\n",
        "print(\"Sum of two numbers is \", \"even\" if (n1+n2)%2==0 else \"odd\")"
      ],
      "metadata": {
        "colab": {
          "base_uri": "https://localhost:8080/"
        },
        "id": "r9hNoQ0xPqf0",
        "outputId": "206acab1-2f36-40a6-96b2-c72ee2552f74"
      },
      "execution_count": 10,
      "outputs": [
        {
          "output_type": "stream",
          "name": "stdout",
          "text": [
            "liczba nr 1 2\n",
            "Even  True\n",
            "Odd  False\n",
            "liczba nr 2 5\n",
            "Sum of two numbers is  odd\n"
          ]
        }
      ]
    },
    {
      "cell_type": "code",
      "source": [
        "password=input(\"Enter password \")\n",
        "has_lowercase = any(a.islower() for  a in password)\n",
        "print(\"At least one lowercase:\",has_lowercase)\n",
        "has_uppercase=any(a.isupper() for a in password)\n",
        "print(\"At least one uppercase:\", has_uppercase)\n",
        "has_digit = any(a.isdigit() for a in password )\n",
        "print(\"At least one number:\", has_digit)\n",
        "has_special=any(a in \"!@#$%^&*_+\" for a in password)\n",
        "print(\"At least one special character\", has_special)\n",
        "print(\"Length between 3 and 18 characters\", 3<=len(password)<=18)"
      ],
      "metadata": {
        "colab": {
          "base_uri": "https://localhost:8080/"
        },
        "id": "p0kQWs77STVA",
        "outputId": "cc37f164-8641-4ecf-c421-98ed8cd75393"
      },
      "execution_count": 14,
      "outputs": [
        {
          "output_type": "stream",
          "name": "stdout",
          "text": [
            "Enter password paaaa76$\n",
            "At least one lowercase: True\n",
            "At least one uppercase: False\n",
            "At least one number: True\n",
            "At least one special character True\n",
            "Length between 3 and 18 characters True\n"
          ]
        }
      ]
    }
  ]
}