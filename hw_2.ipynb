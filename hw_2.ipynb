{
  "nbformat": 4,
  "nbformat_minor": 0,
  "metadata": {
    "colab": {
      "provenance": [],
      "authorship_tag": "ABX9TyO152ILfaEWj1zJLaAyRRsC",
      "include_colab_link": true
    },
    "kernelspec": {
      "name": "python3",
      "display_name": "Python 3"
    },
    "language_info": {
      "name": "python"
    }
  },
  "cells": [
    {
      "cell_type": "markdown",
      "metadata": {
        "id": "view-in-github",
        "colab_type": "text"
      },
      "source": [
        "<a href=\"https://colab.research.google.com/github/jukaLST/techdataanalysis/blob/main/hw_2.ipynb\" target=\"_parent\"><img src=\"https://colab.research.google.com/assets/colab-badge.svg\" alt=\"Open In Colab\"/></a>"
      ]
    },
    {
      "cell_type": "code",
      "execution_count": 32,
      "metadata": {
        "colab": {
          "base_uri": "https://localhost:8080/"
        },
        "id": "W-SQAVJPlS62",
        "outputId": "734e4df6-7734-4113-d903-b95a6a2cb80b"
      },
      "outputs": [
        {
          "output_type": "stream",
          "name": "stdout",
          "text": [
            "podaj pierwszą liczbę: 34\n",
            "podaj drugą liczbę: 23.7\n",
            "Podaj działanie: -\n",
            "10.3\n"
          ]
        }
      ],
      "source": [
        "x=float(input(\"podaj pierwszą liczbę: \"))\n",
        "y=float(input(\"podaj drugą liczbę: \"))\n",
        "d=input(\"Podaj działanie: \")\n",
        "if d==\"+\":\n",
        "  print(x+y)\n",
        "elif d==\"-\":\n",
        "  print(x-y)\n",
        "elif d==\"*\":\n",
        "  print(x*y)\n",
        "else:\n",
        "  print(\"umiem tylko dodawac i odejmowac i jeszcze mnozyc\")\n"
      ]
    },
    {
      "cell_type": "code",
      "source": [
        "imie=input(\"podaj imie: \")\n",
        "nazwisko=input(\"podaj nazwisko: \")\n",
        "wiek=input(\"podaj swoj wiek: \")\n",
        "if not wiek.isnumeric():\n",
        "  print(\"wiek musi byc liczbą\")\n",
        "  error=True\n",
        "telefon=input(\"Podaj numer telefonu: \")\n",
        "if not telefon.isnumeric() or len(telefon)!=9:\n",
        "  print(\"telefon musi miec 9 cyfr\")\n",
        "  error=True\n",
        "haslo=input(\"Podaj hasło: \")\n",
        "haslo2=input(\"powtórz hasło: \")\n",
        "if haslo!=haslo2:\n",
        "  print(\"hasla różnią się od siebie\")\n",
        "  error=True\n",
        "\n",
        "if not error:\n",
        "  print(f\"Imię {imie}\")\n",
        "  print(f\"Nazwisko {nazwisko}\")\n",
        "  print(f\"Wiek {wiek}\")\n",
        "  print(f\"Numer telefonu {telefon}\")\n",
        "  print(f\"Hasło {haslo}\")"
      ],
      "metadata": {
        "colab": {
          "base_uri": "https://localhost:8080/"
        },
        "id": "P9YbC6Y1m5Ys",
        "outputId": "03c05970-57fc-4680-f701-5b56c8d13bac"
      },
      "execution_count": 34,
      "outputs": [
        {
          "output_type": "stream",
          "name": "stdout",
          "text": [
            "podaj imie: aaa\n",
            "podaj nazwisko: aaa\n",
            "podaj swoj wiek: e\n",
            "wiek musi byc liczbą\n",
            "Podaj numer telefonu: 2344\n",
            "telefon musi miec 9 cyfr\n",
            "Podaj hasło: 4ff\n",
            "powtórz hasło: fff\n",
            "hasla różnią się od siebie\n"
          ]
        }
      ]
    }
  ]
}