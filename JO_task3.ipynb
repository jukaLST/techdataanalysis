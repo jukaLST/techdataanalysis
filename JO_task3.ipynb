{
  "nbformat": 4,
  "nbformat_minor": 0,
  "metadata": {
    "colab": {
      "provenance": [],
      "authorship_tag": "ABX9TyP8OYJtKzipdgv6TSQAA5a4",
      "include_colab_link": true
    },
    "kernelspec": {
      "name": "python3",
      "display_name": "Python 3"
    },
    "language_info": {
      "name": "python"
    }
  },
  "cells": [
    {
      "cell_type": "markdown",
      "metadata": {
        "id": "view-in-github",
        "colab_type": "text"
      },
      "source": [
        "<a href=\"https://colab.research.google.com/github/jukaLST/techdataanalysis/blob/main/JO_task3.ipynb\" target=\"_parent\"><img src=\"https://colab.research.google.com/assets/colab-badge.svg\" alt=\"Open In Colab\"/></a>"
      ]
    },
    {
      "cell_type": "code",
      "execution_count": null,
      "metadata": {
        "id": "1EpEWlVp_cJ5"
      },
      "outputs": [],
      "source": []
    },
    {
      "cell_type": "markdown",
      "source": [
        "Wolne Lektury API provides access to a comprehensive collection of literary works and related metadata available on the WolneLektury.pl platform. This API enables users to retrieve detailed information about books, authors, literary periods, genres, and more.\n",
        "\n",
        "Available Endpoints:\n",
        "\n",
        "Books: Retrieve a list of all available books.\n",
        "\n",
        "Endpoint: /api/books/\n",
        "Example: https://wolnelektury.pl/api/books/\n",
        "Audiobooks: Access information about available audiobooks.\n",
        "\n",
        "Endpoint: /api/audiobooks/\n",
        "Example: https://wolnelektury.pl/api/audiobooks/\n",
        "DAISY Books: Retrieve a list of books in the DAISY format.\n",
        "\n",
        "Endpoint: /api/daisy/\n",
        "Example: https://wolnelektury.pl/api/daisy/\n",
        "Authors: Get a list of authors whose works are available.\n",
        "\n",
        "Endpoint: /api/authors/\n",
        "Example: https://wolnelektury.pl/api/authors/\n",
        "Epochs: Retrieve a list of literary periods.\n",
        "\n",
        "Endpoint: /api/epochs/\n",
        "Example: https://wolnelektury.pl/api/epochs/\n",
        "Genres: Access a list of literary genres.\n",
        "\n",
        "Endpoint: /api/genres/\n",
        "Example: https://wolnelektury.pl/api/genres/\n",
        "Kinds: Get a list of literary kinds.\n",
        "\n",
        "Endpoint: /api/kinds/\n",
        "Example: https://wolnelektury.pl/api/kinds/\n",
        "Themes: Retrieve a list of literary themes and motifs.\n",
        "\n",
        "Endpoint: /api/themes/\n",
        "Example: https://wolnelektury.pl/api/themes/\n",
        "Collections: Access curated collections of works.\n",
        "\n",
        "Endpoint: /api/collections/\n",
        "Example: https://wolnelektury.pl/api/collections/\n",
        "Each item in these lists includes a \"href\" attribute, providing a link to detailed information about that specific item. For instance, to get details about Edgar Allan Poe, you can use the endpoint /api/authors/edgar-allan-poe/.\n",
        "\n",
        "Filtering Options:\n",
        "\n",
        "The API allows for combining filters to narrow down results. You can filter by authors, epochs, genres, and kinds. For example, to retrieve lyrical works by Adam Mickiewicz, you can use:\n",
        "\n",
        "/api/authors/adam-mickiewicz/kinds/liryka/books/\n",
        "\n",
        "To select only top-level works (excluding sub-works), append /parent_books/ to your query:\n",
        "\n",
        "/api/authors/adam-mickiewicz/kinds/liryka/parent_books/\n",
        "\n",
        "Similarly, to search for fragments filtered by authors or themes:\n",
        "\n",
        "/api/authors/william-shakespeare/themes/zabawa/fragments/\n",
        "\n",
        "Each fragment includes a \"href\" attribute linking to its detailed description.\n",
        "\n",
        "Data Formats:\n",
        "\n",
        "By default, the API returns data in JSON format. If you prefer XML, add the parameter ?format=xml to any request. For example:\n",
        "\n",
        "https://wolnelektury.pl/api/books/?format=xml\n",
        "\n",
        "Access Requirements:\n",
        "\n",
        "The Wolne Lektury API is publicly accessible and does not require authentication or an API key. You can directly access the endpoints to retrieve information.\n",
        "\n",
        "For more detailed information and updates, you can refer to the official API documentation:\n",
        "WOLNELEKTURY.PL\n",
        "\n",
        "Additionally, an unofficial REST API client for Wolne Lektury is available, which can facilitate interaction with the API:\n",
        "GITHUB.COM\n",
        "\n",
        "This client library can simplify the process of querying the API and handling responses.\n",
        "\n",
        "By utilizing the Wolne Lektury API, developers can integrate a rich repository of literary works and metadata into their applications, promoting the accessibility and appreciation of literature."
      ],
      "metadata": {
        "id": "0FHcfKCcFPv_"
      }
    }
  ]
}